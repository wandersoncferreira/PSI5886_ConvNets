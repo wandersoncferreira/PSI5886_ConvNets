{
 "cells": [
  {
   "cell_type": "markdown",
   "metadata": {},
   "source": [
    "# Exemplo de implementação de ConvNet utilizando o Keras"
   ]
  },
  {
   "cell_type": "code",
   "execution_count": 1,
   "metadata": {
    "collapsed": false
   },
   "outputs": [],
   "source": [
    "# alguns imports necessários\n",
    "from matplotlib import pyplot as plt  # import para fazer a plotagem de figuras\n",
    "import numpy as np  # principal biblioteca para computação numérica\n",
    "\n",
    "# necessario para plotar as imagens dentro do Ipython notebook\n",
    "%matplotlib inline "
   ]
  },
  {
   "cell_type": "markdown",
   "metadata": {},
   "source": [
    "Fala pessoal! Eu queria começar de alguma maneira esse nosso projeto, então decidi fazer um ipython comentado de uma aplicação clássica de ConvNets utilizando a base de dados MINST.\n",
    "\n",
    "Não sei se todos sabem do que se trata essa base de dados, então vou fazer uma breve explicação. A base MNIST contém umas 70 mil imagens de *digitos escritos em letra cursiva* e normalmente a aplicação da ConvNet é para identificar os números."
   ]
  },
  {
   "cell_type": "markdown",
   "metadata": {},
   "source": [
    "**Como importar a base de dados? **"
   ]
  },
  {
   "cell_type": "code",
   "execution_count": 2,
   "metadata": {
    "collapsed": false
   },
   "outputs": [
    {
     "name": "stderr",
     "output_type": "stream",
     "text": [
      "Using TensorFlow backend.\n"
     ]
    }
   ],
   "source": [
    "#from keras.datasets import mnist\n",
    "from keras.datasets import cifar100\n",
    "import keras"
   ]
  },
  {
   "cell_type": "code",
   "execution_count": 3,
   "metadata": {
    "collapsed": true
   },
   "outputs": [],
   "source": [
    "from matplotlib import pyplot as plt"
   ]
  },
  {
   "cell_type": "markdown",
   "metadata": {},
   "source": [
    "** Como são essas imagens? **"
   ]
  },
  {
   "cell_type": "code",
   "execution_count": 5,
   "metadata": {
    "collapsed": false,
    "scrolled": true
   },
   "outputs": [],
   "source": [
    "#num_imagens = 3\n",
    "#dataset = mnist.load_data()\n",
    "#for _ in range(num_imagens):\n",
    "#    plt.figure()\n",
    "#    plt.imshow(dataset[0][0][np.random.randint(20, 1000)], cmap='Greys_r')"
   ]
  },
  {
   "cell_type": "markdown",
   "metadata": {},
   "source": [
    "Essa base de dados é tão popular que o próprio Keras já faz o import dos dados de treino e teste de maneira automatica. A notação que vou utilizar é a clássica que encontra nos tutoriais pela internet. X_treino, y_treino para dados de *input* e *target* respectivamente. Os inputs utilizam uma letra maiúscula para diferenciar que estamos falando de uma matriz enquanto que o target seria apenas um vetor."
   ]
  },
  {
   "cell_type": "code",
   "execution_count": 6,
   "metadata": {
    "collapsed": false
   },
   "outputs": [],
   "source": [
    "(X_treino, y_treino), (X_teste, y_teste) = cifar100.load_data(label_mode='fine')"
   ]
  },
  {
   "cell_type": "code",
   "execution_count": 7,
   "metadata": {
    "collapsed": false
   },
   "outputs": [
    {
     "name": "stdout",
     "output_type": "stream",
     "text": [
      "Dimensões dos dados de treino e teste\n",
      "Dimensoes do treino:  inputs: (50000, 32, 32, 3) targets: (50000, 1) num_exemplos: 50000\n",
      "Dimensoes do teste:  inputs: (10000, 32, 32, 3) targets: (10000, 1) num_exemplos: 10000\n",
      "('Tipo de estrutura de dados: ', <type 'numpy.ndarray'>)\n"
     ]
    }
   ],
   "source": [
    "print(\"Dimensões dos dados de treino e teste\")\n",
    "print(\"Dimensoes do treino:  inputs: {} targets: {} num_exemplos: {}\".format(X_treino.shape, y_treino.shape, len(X_treino)))\n",
    "print(\"Dimensoes do teste:  inputs: {} targets: {} num_exemplos: {}\".format(X_teste.shape, y_teste.shape, len(X_teste)))\n",
    "print(\"Tipo de estrutura de dados: \", type(X_treino))"
   ]
  },
  {
   "cell_type": "markdown",
   "metadata": {},
   "source": [
    "Podemos começar a manipulação dos dados para conseguir utilizar dentro de um modelo de machine learning.\n",
    "\n",
    "1. Precisamos colocar os dados em um formato que o Keras entenda. Teremos que passar matrizes para o modelo de rede neural, porém até lá temos que utilizar algumas outras bibliotecas para categorizar os dados. Então o primeiro passo é apenas passar os dados acima com formato (60000, 28, 28) para (60000, 28, 28, 1) e definir o tipo dos valores como float.\n",
    "\n",
    "OBS: Tomar um pouco de cuidado aqui. Se você estiver utilizando o TensorFlow como backend, o conjunto de treino deve ter o formado que colocamos acima. (batch_size, altura, largura, 1). Porém caso utilizem o Theano como backend, então o formato muda um pouco: (batch_size, 1, altura, largura). Se não me engano é apenas uma definição de como eles ordenam as imagens."
   ]
  },
  {
   "cell_type": "code",
   "execution_count": 8,
   "metadata": {
    "collapsed": false
   },
   "outputs": [],
   "source": [
    "qtd_linhas = 32\n",
    "qtd_colunas = 32\n",
    "\n",
    "X_treino = X_treino.reshape(X_treino.shape[0], qtd_linhas, qtd_colunas, 3).astype('float')\n",
    "X_teste = X_teste.reshape(X_teste.shape[0], qtd_linhas, qtd_colunas, 3).astype('float')"
   ]
  },
  {
   "cell_type": "code",
   "execution_count": 9,
   "metadata": {
    "collapsed": false
   },
   "outputs": [],
   "source": [
    "# nessa etapa precisamos normalizar as *intensidades* de cada imagem\n",
    "# elas variam de [0, 255] precisamos colocar de [0, 1]\n",
    "\n",
    "X_treino /= 255\n",
    "X_teste /= 255"
   ]
  },
  {
   "cell_type": "code",
   "execution_count": 10,
   "metadata": {
    "collapsed": false
   },
   "outputs": [
    {
     "data": {
      "text/plain": [
       "(50000, 32, 32, 3)"
      ]
     },
     "execution_count": 10,
     "metadata": {},
     "output_type": "execute_result"
    }
   ],
   "source": [
    "X_treino.shape"
   ]
  },
  {
   "cell_type": "markdown",
   "metadata": {},
   "source": [
    "A próxima etapa é bem importante. Abaixo vou colocar um preview dos nossos dados de target. Já adiantando, os dados de target são os significados das imagens, ou seja, se uma imagem tem um 5 escrita com uma gráfia bem ruim, o target dessa amostra é o próprio valor 5. \n",
    "\n",
    "Porém, utilizar o target dessa maneira, pode não ser uma boa ideia. Fiz alguns testes no passado que apresentou algumas melhoras ao utilizar um target categorico no lugar da variável real."
   ]
  },
  {
   "cell_type": "code",
   "execution_count": 11,
   "metadata": {
    "collapsed": false
   },
   "outputs": [
    {
     "data": {
      "text/plain": [
       "array([[19],\n",
       "       [29],\n",
       "       [ 0],\n",
       "       ..., \n",
       "       [ 3],\n",
       "       [ 7],\n",
       "       [73]])"
      ]
     },
     "execution_count": 11,
     "metadata": {},
     "output_type": "execute_result"
    }
   ],
   "source": [
    "y_treino"
   ]
  },
  {
   "cell_type": "markdown",
   "metadata": {},
   "source": [
    "O que seriam variáveis categoricas? Digamos que temos apenas 3 classes de números em um determinado problema. \"REAL, INTEIRO, IMAGINÁRIO\".\n",
    "\n",
    "A lista de targets poderia ser: [1.2, 2, 3, 4.2, 4i]\n",
    "No lugar de passar a lista acima, poderiamos categorizar em uma matriz onde cada linha mostra uma representação binarizada da variável target.\n",
    "\n",
    "|target ||REAL|INTEIRO|IMAGINARIO|\n",
    "|:----: |:-:|:--:|:-----:|:----:|\n",
    "|1.2||1|0|0|\n",
    "|2||0|1|0|\n",
    "|3||0|1|0|\n",
    "|4.2||1|0|0|\n",
    "|4i||0|0|1|\n",
    "\n",
    "Assim, passamos essa matriz binarizada para a rede. Várias bibliotecas tem implementada essa funcionalidade. O pandas usa o método .get_dummies(), no Keras podemos usar um método chamado **to_categorical**"
   ]
  },
  {
   "cell_type": "code",
   "execution_count": 12,
   "metadata": {
    "collapsed": true
   },
   "outputs": [],
   "source": [
    "from keras.utils.np_utils import to_categorical"
   ]
  },
  {
   "cell_type": "code",
   "execution_count": 13,
   "metadata": {
    "collapsed": true
   },
   "outputs": [],
   "source": [
    "numero_classes = 100  # temos de 0 a 9 no dataset\n",
    "y_treino = to_categorical(y_treino, numero_classes)\n",
    "y_teste = to_categorical(y_teste, numero_classes)"
   ]
  },
  {
   "cell_type": "markdown",
   "metadata": {},
   "source": [
    "Finalmente, podemos criar o modelo de rede neural para o problema de reconhecimento de digitos. No Keras tem uma gama bem grande de modelos prontos, basta instanciar e montar as camadas.\n",
    "\n",
    "O modelo de rede neural convolucional apresenta básicamente os seguintes componentes:\n",
    "\n",
    "1. Uma camada convolucional\n",
    "2. Uma camada de Pooling\n",
    "3. Uma camada completamente conectada\n",
    "4. Uma camada completamente conectada com Softmax como função de ativação\n",
    "\n",
    "Acho que nessa estrutura podemos avançar mais sobre o entendimento delas. Deixar mais claro o que cada uma está fazendo, com exemplos visuais se possível. E um pouco de intuição sobre o fenômeno."
   ]
  },
  {
   "cell_type": "code",
   "execution_count": 14,
   "metadata": {
    "collapsed": true
   },
   "outputs": [],
   "source": [
    "from keras.models import Sequential"
   ]
  },
  {
   "cell_type": "code",
   "execution_count": 15,
   "metadata": {
    "collapsed": false
   },
   "outputs": [],
   "source": [
    "class LossHistory(keras.callbacks.Callback):\n",
    "    def on_train_begin(self, logs={}):\n",
    "        self.losses = []\n",
    "\n",
    "    def on_batch_end(self, batch, logs={}):\n",
    "        self.losses.append(logs.get('loss'))"
   ]
  },
  {
   "cell_type": "markdown",
   "metadata": {},
   "source": [
    "Também é necessário informar alguns parâmetros como o número de filtros convolucionais, tamanho da janela dos filtros, tamanho da janela de pooling. Tudo bem empírico."
   ]
  },
  {
   "cell_type": "code",
   "execution_count": 16,
   "metadata": {
    "collapsed": true
   },
   "outputs": [],
   "source": [
    "num_filtros = 32\n",
    "num_conv = 2\n",
    "num_pool = 2\n",
    "numero_classes = 100"
   ]
  },
  {
   "cell_type": "code",
   "execution_count": 17,
   "metadata": {
    "collapsed": false
   },
   "outputs": [],
   "source": [
    "from keras.layers import Activation\n",
    "from keras.layers.convolutional import Convolution2D, MaxPooling2D\n",
    "from keras.layers import Flatten, Dense\n",
    "from keras.layers.core import Dropout\n",
    "\n",
    "has_drop = True\n",
    "dropout_rate=0.3"
   ]
  },
  {
   "cell_type": "code",
   "execution_count": 18,
   "metadata": {
    "collapsed": false
   },
   "outputs": [
    {
     "name": "stdout",
     "output_type": "stream",
     "text": [
      "convolution2d_1 (None, 31, 31, 32)\n",
      "activation_1 (None, 31, 31, 32)\n",
      "convolution2d_2 (None, 29, 29, 32)\n",
      "activation_2 (None, 29, 29, 32)\n",
      "maxpooling2d_1 (None, 14, 14, 32)\n",
      "dropout_1 (None, 14, 14, 32)\n",
      "convolution2d_3 (None, 12, 12, 64)\n",
      "activation_3 (None, 12, 12, 64)\n",
      "convolution2d_4 (None, 10, 10, 64)\n",
      "activation_4 (None, 10, 10, 64)\n",
      "maxpooling2d_2 (None, 5, 5, 64)\n",
      "dropout_2 (None, 5, 5, 64)\n",
      "flatten_1 (None, 1600)\n",
      "dense_1 (None, 512)\n",
      "activation_5 (None, 512)\n",
      "dropout_3 (None, 512)\n",
      "dense_2 (None, 100)\n",
      "dense_3 (None, 100)\n",
      "activation_6 (None, 100)\n"
     ]
    }
   ],
   "source": [
    "\n",
    "has_drop = True\n",
    "\n",
    "   \n",
    "modelo = Sequential() # na documentação do Keras \n",
    "#tem um pouco sobre o funcionamento desse modelo\n",
    "# basicamente, voce pode ir 'empilhando' camadas\n",
    "\n",
    "\n",
    "def keras_add(m,op):\n",
    "    m.add(op)\n",
    "    l = m.layers[-1]\n",
    "    print l.name, l.get_output_shape_at(-1)\n",
    "\n",
    "\n",
    "keras_add(modelo,Convolution2D(num_filtros, num_conv, num_conv, \n",
    "                         border_mode='valid',\n",
    "                         input_shape=(32, 32, 3)))\n",
    "keras_add(modelo,Activation('relu'))\n",
    "#keras_add(modelo,Convolution2D(num_filtros, num_conv, num_conv))\n",
    "#keras_add(modelo,Convolution2D(num_filtros, 12, 2))\n",
    "#1\n",
    "keras_add(modelo,Convolution2D(32, 3, 3))\n",
    "keras_add(modelo,Activation('relu'))\n",
    "keras_add(modelo,MaxPooling2D(pool_size=(2, 2)))\n",
    "keras_add(modelo,Dropout(0.25))\n",
    "\n",
    "#2\n",
    "keras_add(modelo,Convolution2D(64, 3, 3))\n",
    "keras_add(modelo,Activation('relu'))\n",
    "keras_add(modelo,Convolution2D(64, 3, 3))\n",
    "keras_add(modelo,Activation('relu'))\n",
    "keras_add(modelo,MaxPooling2D(pool_size=(2, 2)))\n",
    "keras_add(modelo,Dropout(0.25))\n",
    "\n",
    "#\n",
    "keras_add(modelo,Flatten()) # 'comprime' o dado para ser possivel utilizar em uma camada 1\n",
    "keras_add(modelo,Dense(512)) # 200 eh o numero de neuronios dessa camada\n",
    "keras_add(modelo,Activation('relu'))\n",
    "keras_add(modelo,Dropout(0.25))\n",
    "keras_add(modelo,Dense(100)) # 200 eh o numero de neuronios dessa camada\n",
    "keras_add(modelo,Dense(numero_classes))\n",
    "\n",
    "keras_add(modelo,Activation('softmax')) # o resultado aqui vai ser a probabilidade de cada classe\n"
   ]
  },
  {
   "cell_type": "markdown",
   "metadata": {},
   "source": [
    "A próxima etapa utilizando o Keras é compilar o modelo que foi definido acima"
   ]
  },
  {
   "cell_type": "code",
   "execution_count": 19,
   "metadata": {
    "collapsed": false
   },
   "outputs": [],
   "source": [
    "#modelo.compile(loss='categorical_crossentropy',\n",
    "#              optimizer='adadelta',\n",
    "#              metrics=['accuracy']) \n",
    "\n",
    "modelo.compile(loss='categorical_crossentropy',\n",
    "              optimizer='adam',\n",
    "              metrics=['accuracy']) \n",
    "\n",
    "history = LossHistory()\n",
    "# bastante coisas aqui para estudar também. "
   ]
  },
  {
   "cell_type": "markdown",
   "metadata": {},
   "source": [
    "Agora podemos treinar o nosso modelo com os dados"
   ]
  },
  {
   "cell_type": "code",
   "execution_count": 20,
   "metadata": {
    "collapsed": false
   },
   "outputs": [
    {
     "name": "stdout",
     "output_type": "stream",
     "text": [
      "Train on 50000 samples, validate on 10000 samples\n",
      "Epoch 1/10\n",
      "50000/50000 [==============================] - 212s - loss: 4.2178 - acc: 0.0515 - val_loss: 3.9076 - val_acc: 0.0961\n",
      "Epoch 2/10\n",
      "50000/50000 [==============================] - 218s - loss: 3.8309 - acc: 0.1066 - val_loss: 3.6665 - val_acc: 0.1368\n",
      "Epoch 3/10\n",
      "50000/50000 [==============================] - 222s - loss: 3.6722 - acc: 0.1347 - val_loss: 3.5244 - val_acc: 0.1633\n",
      "Epoch 4/10\n",
      "50000/50000 [==============================] - 222s - loss: 3.5429 - acc: 0.1569 - val_loss: 3.3794 - val_acc: 0.1960\n",
      "Epoch 5/10\n",
      "50000/50000 [==============================] - 224s - loss: 3.3877 - acc: 0.1837 - val_loss: 3.2030 - val_acc: 0.2262\n",
      "Epoch 6/10\n",
      "50000/50000 [==============================] - 222s - loss: 3.2363 - acc: 0.2146 - val_loss: 3.0987 - val_acc: 0.2431\n",
      "Epoch 7/10\n",
      "50000/50000 [==============================] - 224s - loss: 3.1222 - acc: 0.2330 - val_loss: 2.9485 - val_acc: 0.2756\n",
      "Epoch 8/10\n",
      "50000/50000 [==============================] - 222s - loss: 3.0337 - acc: 0.2496 - val_loss: 2.9362 - val_acc: 0.2884\n",
      "Epoch 9/10\n",
      "50000/50000 [==============================] - 222s - loss: 2.9525 - acc: 0.2651 - val_loss: 2.8334 - val_acc: 0.2971\n",
      "Epoch 10/10\n",
      "50000/50000 [==============================] - 222s - loss: 2.8891 - acc: 0.2770 - val_loss: 2.7703 - val_acc: 0.3118\n"
     ]
    },
    {
     "data": {
      "text/plain": [
       "<keras.callbacks.History at 0x7fb08dd0ac10>"
      ]
     },
     "execution_count": 20,
     "metadata": {},
     "output_type": "execute_result"
    }
   ],
   "source": [
    "num_epocas = 10\n",
    "batch_size = 128\n",
    "\n",
    "\n",
    "modelo.fit(X_treino, y_treino, batch_size=batch_size,\n",
    "          nb_epoch=num_epocas, validation_data=(X_teste, y_teste), callbacks=[history])"
   ]
  },
  {
   "cell_type": "markdown",
   "metadata": {},
   "source": [
    "Agora basta verificar as métricas do modelo treinado. É um pouco demorado fazer o treinamento desse modelo em um notebook normal. Vou tentar rodar no meu desktop no trabalho na segunda-feira e ver se é um pouco mais rápido. Por isso coloquei apenas 1 epoca de treinamento."
   ]
  },
  {
   "cell_type": "code",
   "execution_count": 21,
   "metadata": {
    "collapsed": false
   },
   "outputs": [
    {
     "name": "stdout",
     "output_type": "stream",
     "text": [
      "10000/10000 [==============================] - 14s    \n",
      "2.77032169914 0.3118\n"
     ]
    }
   ],
   "source": [
    "loss, accuracy = modelo.evaluate(X_teste, y_teste)\n",
    "print loss,accuracy"
   ]
  },
  {
   "cell_type": "markdown",
   "metadata": {},
   "source": [
    "Após essa etapa ainda é possivel fazer previsões e verificar outras métricas com os métodos .predict_proba, .predict_classes. A partir daqui podemos continuar esse mesmo exemplo e ver como se sai.\n",
    "\n",
    "Espero que isso tudo tenha sido útil para mais alguém além de mim. o/\n",
    "\n",
    "Flws!"
   ]
  },
  {
   "cell_type": "code",
   "execution_count": 22,
   "metadata": {
    "collapsed": false
   },
   "outputs": [
    {
     "name": "stdout",
     "output_type": "stream",
     "text": [
      "loss: 2.770322 \t accuracy: 0.311800\n"
     ]
    },
    {
     "data": {
      "image/png": "[encoded data removed]",
      "text/plain": [
       "<matplotlib.figure.Figure at 0x7fb08d8c7350>"
      ]
     },
     "metadata": {},
     "output_type": "display_data"
    }
   ],
   "source": [
    "plt.plot(history.losses)\n",
    "print \"loss: %f \\t accuracy: %f\" % (loss, accuracy)"
   ]
  },
  {
   "cell_type": "code",
   "execution_count": 23,
   "metadata": {
    "collapsed": false
   },
   "outputs": [],
   "source": [
    "modelo.save('model_cifar.h5')\n",
    "modelo.save_weights('weights_cifar.h5')"
   ]
  },
  {
   "cell_type": "code",
   "execution_count": null,
   "metadata": {
    "collapsed": true
   },
   "outputs": [],
   "source": []
  }
 ],
 "metadata": {
  "anaconda-cloud": {},
  "kernelspec": {
   "display_name": "Python 2",
   "language": "python",
   "name": "python2"
  },
  "language_info": {
   "codemirror_mode": {
    "name": "ipython",
    "version": 2
   },
   "file_extension": ".py",
   "mimetype": "text/x-python",
   "name": "python",
   "nbconvert_exporter": "python",
   "pygments_lexer": "ipython2",
   "version": "2.7.12+"
  }
 },
 "nbformat": 4,
 "nbformat_minor": 1
}
